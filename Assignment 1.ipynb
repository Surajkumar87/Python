{
 "cells": [
  {
   "cell_type": "markdown",
   "metadata": {},
   "source": [
    "1. What are the differences between operators and values in the following?\n",
    "\n",
    "* is Operator\n",
    "'hello' is String Value\n",
    "-87.8 is Floating number\n",
    "- is Operator\n",
    "/ is Operator\n",
    "+ is Operator\n",
    "6 is Integer number\n"
   ]
  },
  {
   "cell_type": "markdown",
   "metadata": {},
   "source": [
    "2. What is the difference between string and variable?\n",
    "spam - It is a variable to make a declaration.\n",
    "'spam' - It is a string can be used as value.\n",
    "\n",
    "Strings always will be in \"\" whereas variables are not."
   ]
  },
  {
   "cell_type": "markdown",
   "metadata": {},
   "source": [
    "3. Describe three different data forms.\n",
    "\n",
    "Integer - Round Numbers\n",
    "String - Characters\n",
    "Float - Decimal numbers"
   ]
  },
  {
   "cell_type": "markdown",
   "metadata": {},
   "source": [
    "4. What makes up an expression? What are the functions of all expressions?\n",
    "\n",
    "Combination of operator & operands makes up an expressions. Function of expressions is to represent Arithmetic, Relation, Logical and Compound expression.\n",
    "\n",
    "Example:\n",
    "a = 1 \n",
    "b = 2\n",
    "a + b = 3 \n",
    "here a+b is an expression\n"
   ]
  },
  {
   "cell_type": "markdown",
   "metadata": {},
   "source": [
    "5. In this chapter, assignment statements such as spam = 10 were added. What's the difference between a declaration and an expression?\n",
    "\n",
    "Declaration:\n",
    "We have declared a variable called spam.\n",
    "spam = 10 is a declaration.\n",
    "\n",
    "Expression:\n",
    "Expression is combination of operands & operators to declare a value. "
   ]
  },
  {
   "cell_type": "markdown",
   "metadata": {},
   "source": [
    "6. After running the following code, what does the variable bacon contain?\n",
    "\n",
    "bacon = 22\n",
    "bacon + 1\n",
    "\n",
    "Answer : 23"
   ]
  },
  {
   "cell_type": "markdown",
   "metadata": {},
   "source": [
    "7. What should the values of the following two terms be?\n",
    "\n",
    "'spam' + 'spamspam' - 'spamspamspam'\n",
    "'spam' * 3          - 'spamspamspam'"
   ]
  },
  {
   "cell_type": "markdown",
   "metadata": {},
   "source": [
    "8. Why is it that eggs is a true variable name but 100 is not?\n",
    "\n",
    "Variables always should start with characters not with integers. \n",
    "Here 100 is an Integer."
   ]
  },
  {
   "cell_type": "markdown",
   "metadata": {},
   "source": [
    "9. Which of the following three functions may be used to convert a value to an integer, a floating-point number, or a string?\n",
    "\n",
    "Int - To convert value to an Integer\n",
    "float - To convert value into decimal\n",
    "str - To convert value into string"
   ]
  },
  {
   "cell_type": "markdown",
   "metadata": {},
   "source": [
    "10. What is the error caused by this expression? What would you do about it?\n",
    "\n",
    "'I have eaten ' + 99 + ' burritos.'\n",
    "\n",
    "In the above case, 99 is not a string hence it caused the error.\n",
    "\n",
    "The correct one should be:\n",
    "'I have eaten' + ' 99 ' + 'burritos'\n",
    "\n",
    "Answer: 'I have eaten 99 burritos'"
   ]
  },
  {
   "cell_type": "code",
   "execution_count": null,
   "metadata": {},
   "outputs": [],
   "source": []
  }
 ],
 "metadata": {
  "kernelspec": {
   "display_name": "Python 3",
   "language": "python",
   "name": "python3"
  },
  "language_info": {
   "codemirror_mode": {
    "name": "ipython",
    "version": 3
   },
   "file_extension": ".py",
   "mimetype": "text/x-python",
   "name": "python",
   "nbconvert_exporter": "python",
   "pygments_lexer": "ipython3",
   "version": "3.8.5"
  }
 },
 "nbformat": 4,
 "nbformat_minor": 4
}
