{
 "cells": [
  {
   "cell_type": "markdown",
   "metadata": {},
   "source": [
    "# 1. What does RGBA stand for?\n",
    "\n",
    "An RGBA value is a tuple of 4 integers, each ranging from 0 to 255. The four integers correspond to the amount of red, green, blue, and alpha (transparency) in the color."
   ]
  },
  {
   "cell_type": "markdown",
   "metadata": {},
   "source": [
    "# 2. From the Pillow module, how do you get the RGBA value of any images?\n",
    "\n",
    "A function call to ImageColor.getcolor(color, 'RGBA') will return  the RGBA value for that image."
   ]
  },
  {
   "cell_type": "markdown",
   "metadata": {},
   "source": [
    "# 3. What is a box tuple, and how does it work?\n",
    "\n",
    "a box tuple argument which means Pillow is expecting a tuple of four integer coordinates that represent a rectangular region in an image. The four integers are:\n",
    "\n",
    "• Left: The x-coordinate of the leftmost edge of the box.\n",
    "\n",
    "• Top: The y-coordinate of the top edge of the box.\n",
    "\n",
    "• Right: The x-coordinate of one pixel to the right of the rightmost edge of the box. This integer must be greater than the left integer.\n",
    "\n",
    "• Bottom: The y-coordinate of one pixel lower than the bottom edge of the box. This integer must be greater than the top integer.\n"
   ]
  },
  {
   "cell_type": "markdown",
   "metadata": {},
   "source": [
    "# 4. Use your image and load in notebook then, How can you find out the width and height of an Image object?\n",
    "\n",
    "(imageObj.size ) will provide the width and height of an Image object. It is a tuple of two integers."
   ]
  },
  {
   "cell_type": "markdown",
   "metadata": {},
   "source": [
    "# 5. What method would you call to get Image object for a 100×100 image, excluding the lower-left quarter of it?\n",
    "\n",
    "pil_im.resize((100,100))"
   ]
  },
  {
   "cell_type": "markdown",
   "metadata": {},
   "source": [
    "# 6. After making changes to an Image object, how could you save it as an image file?\n",
    "\n",
    "Call the imageObj.save('new_filename.png') method of the Image object."
   ]
  },
  {
   "cell_type": "markdown",
   "metadata": {},
   "source": [
    "# 7. What module contains Pillow’s shape-drawing code?\n",
    "\n",
    "The ImageDraw module contains code to draw on images in Pillow's shape"
   ]
  },
  {
   "cell_type": "markdown",
   "metadata": {},
   "source": [
    "# 8. Image objects do not have drawing methods. What kind of object does? How do you get this kind of object?\n",
    "\n",
    "ImageDraw objects have shape-drawing methods such as point(), line(), or rectangle(). They are returned by passing the Image object to the ImageDraw.Draw() function."
   ]
  }
 ],
 "metadata": {
  "kernelspec": {
   "display_name": "Python 3",
   "language": "python",
   "name": "python3"
  },
  "language_info": {
   "codemirror_mode": {
    "name": "ipython",
    "version": 3
   },
   "file_extension": ".py",
   "mimetype": "text/x-python",
   "name": "python",
   "nbconvert_exporter": "python",
   "pygments_lexer": "ipython3",
   "version": "3.8.5"
  }
 },
 "nbformat": 4,
 "nbformat_minor": 4
}
