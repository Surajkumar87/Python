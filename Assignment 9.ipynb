{
 "cells": [
  {
   "cell_type": "markdown",
   "id": "c896b3a7",
   "metadata": {},
   "source": [
    "# 1. To what does a relative path refer?\n",
    "\n",
    "Relative paths are relative to the current working directory."
   ]
  },
  {
   "cell_type": "markdown",
   "id": "0946fec7",
   "metadata": {},
   "source": [
    "# 2. What does an absolute path start with your operating system?\n",
    "\n",
    "Absolute path starts with the root folder, such as / or C:\\."
   ]
  },
  {
   "cell_type": "markdown",
   "id": "35f0ca7f",
   "metadata": {},
   "source": [
    "# 3. What do the functions os.getcwd() and os.chdir() do?\n",
    "\n",
    "The os.getcwd() function returns the current working directory. \n",
    "\n",
    "The os.chdir() function changes the current working directory."
   ]
  },
  {
   "cell_type": "markdown",
   "id": "9cbc53bf",
   "metadata": {},
   "source": [
    "# 4. What are the . and .. folders?\n",
    "\n",
    "The . folder is the current folder and .. folder is the parent folder."
   ]
  },
  {
   "cell_type": "markdown",
   "id": "e4933e4d",
   "metadata": {},
   "source": [
    "# 5. In C:\\bacon\\eggs\\spam.txt, which part is the dir name, and which part is the base name?\n",
    "\n",
    "C:\\bacon\\eggs is the dir name, while spam.txt is the base name."
   ]
  },
  {
   "cell_type": "markdown",
   "id": "0439c0c3",
   "metadata": {},
   "source": [
    "# 6. What are the three “mode” arguments that can be passed to the open() function?\n",
    "\n",
    "The below are the 3 arguments to open() function:\n",
    "\n",
    "1. ' r ' for read mode\n",
    "2. ' w ' for write mode\n",
    "3. ' a ' for append mode"
   ]
  },
  {
   "cell_type": "markdown",
   "id": "f66ffd8a",
   "metadata": {},
   "source": [
    "# 7. What happens if an existing file is opened in write mode?\n",
    "\n",
    "An existing file is opened in write mode, is erased and completely overwritten"
   ]
  },
  {
   "cell_type": "markdown",
   "id": "e6d0b13f",
   "metadata": {},
   "source": [
    "# 8. How do you tell the difference between read() and readlines()?\n",
    "\n",
    "The read() method returns the file’s entire contents as a single string value.\n",
    "\n",
    "The readlines() method returns a list of strings, where each string is a line from the file’s contents."
   ]
  },
  {
   "cell_type": "markdown",
   "id": "95865060",
   "metadata": {},
   "source": [
    "# 9. What data structure does a shelf value resemble?\n",
    "\n",
    "A shelf value resembles a dictionary value; it has keys and values, along with keys() and values() methods that work similarly to the dictionary methods of the same names."
   ]
  }
 ],
 "metadata": {
  "kernelspec": {
   "display_name": "Python 3",
   "language": "python",
   "name": "python3"
  },
  "language_info": {
   "codemirror_mode": {
    "name": "ipython",
    "version": 3
   },
   "file_extension": ".py",
   "mimetype": "text/x-python",
   "name": "python",
   "nbconvert_exporter": "python",
   "pygments_lexer": "ipython3",
   "version": "3.8.8"
  }
 },
 "nbformat": 4,
 "nbformat_minor": 5
}
